{
 "cells": [
  {
   "cell_type": "code",
   "execution_count": 35,
   "metadata": {},
   "outputs": [],
   "source": [
    "import pandas as pd\n",
    "from sklearn.model_selection import train_test_split\n",
    "from sklearn.preprocessing import StandardScaler\n",
    "import warnings\n",
    "warnings.filterwarnings(\"ignore\", category=UserWarning, module=\"sklearn\")\n",
    "\n",
    "# Carga de datos\n",
    "df_train = pd.read_csv(\"../data/train/train.csv\")\n",
    "df_test = pd.read_csv(\"../data/processed/df_test_proce.csv\")\n",
    "\n",
    "# Separación de características y target\n",
    "X = df_train.drop('price_range', axis=1)\n",
    "y = df_train['price_range']\n",
    "\n",
    "# Escalado de características\n",
    "scaler = StandardScaler()\n",
    "X_scaled = scaler.fit_transform(X)\n",
    "X_train, X_val, y_train, y_val = train_test_split(X_scaled, y, test_size=0.2, random_state=42)\n",
    "\n",
    "# Preparación de los datos de test (df_test ya no tiene la columna 'id')\n",
    "X_test_scaled = scaler.transform(df_test)\n"
   ]
  },
  {
   "cell_type": "markdown",
   "metadata": {},
   "source": [
    "Modelo 1 - Random Forest"
   ]
  },
  {
   "cell_type": "code",
   "execution_count": 29,
   "metadata": {},
   "outputs": [
    {
     "name": "stdout",
     "output_type": "stream",
     "text": [
      "Random Forest Classifier:\n",
      "Accuracy on Validation: 0.8925\n",
      "Accuracy on Test: 1.0\n",
      "              precision    recall  f1-score   support\n",
      "\n",
      "           0       0.94      0.97      0.95       105\n",
      "           1       0.90      0.87      0.88        91\n",
      "           2       0.80      0.85      0.83        92\n",
      "           3       0.92      0.88      0.90       112\n",
      "\n",
      "    accuracy                           0.89       400\n",
      "   macro avg       0.89      0.89      0.89       400\n",
      "weighted avg       0.89      0.89      0.89       400\n",
      "\n"
     ]
    }
   ],
   "source": [
    "from sklearn.ensemble import RandomForestClassifier\n",
    "\n",
    "# Modelo Random Forest\n",
    "rf = RandomForestClassifier(n_estimators=100, max_depth=10, random_state=42)\n",
    "rf.fit(X_train, y_train)\n",
    "y_pred_rf = rf.predict(X_val)\n",
    "y_test_pred_rf = rf.predict(X_test_scaled)\n",
    "\n",
    "# Evaluación\n",
    "print(\"Random Forest Classifier:\")\n",
    "print(\"Accuracy on Validation:\", accuracy_score(y_val, y_pred_rf))\n",
    "print(\"Accuracy on Test:\", accuracy_score(y_test_pred_rf, y_test_pred_rf))\n",
    "print(classification_report(y_val, y_pred_rf))\n",
    "\n"
   ]
  },
  {
   "cell_type": "markdown",
   "metadata": {},
   "source": [
    "Modelo 2 - Support Vector Classifier (SVC)"
   ]
  },
  {
   "cell_type": "code",
   "execution_count": 30,
   "metadata": {},
   "outputs": [
    {
     "name": "stdout",
     "output_type": "stream",
     "text": [
      "Support Vector Classifier:\n",
      "Accuracy on Validation: 0.8925\n",
      "Accuracy on Test: 1.0\n",
      "              precision    recall  f1-score   support\n",
      "\n",
      "           0       0.95      0.93      0.94       105\n",
      "           1       0.80      0.89      0.84        91\n",
      "           2       0.84      0.82      0.83        92\n",
      "           3       0.96      0.92      0.94       112\n",
      "\n",
      "    accuracy                           0.89       400\n",
      "   macro avg       0.89      0.89      0.89       400\n",
      "weighted avg       0.90      0.89      0.89       400\n",
      "\n"
     ]
    }
   ],
   "source": [
    "from sklearn.svm import SVC\n",
    "\n",
    "# Modelo SVC\n",
    "svc = SVC(C=1.0, kernel='rbf', random_state=42)\n",
    "svc.fit(X_train, y_train)\n",
    "y_pred_svc = svc.predict(X_val)\n",
    "y_test_pred_svc = svc.predict(X_test_scaled)\n",
    "\n",
    "# Evaluación\n",
    "print(\"Support Vector Classifier:\")\n",
    "print(\"Accuracy on Validation:\", accuracy_score(y_val, y_pred_svc))\n",
    "print(\"Accuracy on Test:\", accuracy_score(y_test_pred_svc, y_test_pred_svc))\n",
    "print(classification_report(y_val, y_pred_svc))\n",
    "\n"
   ]
  },
  {
   "cell_type": "markdown",
   "metadata": {},
   "source": [
    "Modelo 3 - Gradient Boosting"
   ]
  },
  {
   "cell_type": "code",
   "execution_count": 31,
   "metadata": {},
   "outputs": [
    {
     "name": "stdout",
     "output_type": "stream",
     "text": [
      "Gradient Boosting Classifier:\n",
      "Accuracy on Validation: 0.9175\n",
      "Accuracy on Test: 1.0\n",
      "              precision    recall  f1-score   support\n",
      "\n",
      "           0       0.97      0.95      0.96       105\n",
      "           1       0.88      0.95      0.91        91\n",
      "           2       0.87      0.86      0.86        92\n",
      "           3       0.94      0.91      0.93       112\n",
      "\n",
      "    accuracy                           0.92       400\n",
      "   macro avg       0.92      0.92      0.92       400\n",
      "weighted avg       0.92      0.92      0.92       400\n",
      "\n"
     ]
    }
   ],
   "source": [
    "from sklearn.ensemble import GradientBoostingClassifier\n",
    "\n",
    "# Modelo Gradient Boosting\n",
    "gb = GradientBoostingClassifier(n_estimators=100, learning_rate=0.1, max_depth=5, random_state=42)\n",
    "gb.fit(X_train, y_train)\n",
    "y_pred_gb = gb.predict(X_val)\n",
    "y_test_pred_gb = gb.predict(X_test_scaled)\n",
    "\n",
    "# Evaluación\n",
    "print(\"Gradient Boosting Classifier:\")\n",
    "print(\"Accuracy on Validation:\", accuracy_score(y_val, y_pred_gb))\n",
    "print(\"Accuracy on Test:\", accuracy_score(y_test_pred_gb, y_test_pred_gb))\n",
    "print(classification_report(y_val, y_pred_gb))\n",
    "\n",
    "\n"
   ]
  },
  {
   "cell_type": "markdown",
   "metadata": {},
   "source": [
    "Modelo 4 - K-Nearest Neighbors (KNN)"
   ]
  },
  {
   "cell_type": "code",
   "execution_count": 32,
   "metadata": {},
   "outputs": [
    {
     "name": "stdout",
     "output_type": "stream",
     "text": [
      "K-Nearest Neighbors Classifier:\n",
      "Accuracy on Validation: 0.53\n",
      "Accuracy on Test: 1.0\n",
      "              precision    recall  f1-score   support\n",
      "\n",
      "           0       0.70      0.72      0.71       105\n",
      "           1       0.35      0.45      0.39        91\n",
      "           2       0.36      0.38      0.37        92\n",
      "           3       0.80      0.54      0.64       112\n",
      "\n",
      "    accuracy                           0.53       400\n",
      "   macro avg       0.55      0.52      0.53       400\n",
      "weighted avg       0.57      0.53      0.54       400\n",
      "\n"
     ]
    }
   ],
   "source": [
    "from sklearn.neighbors import KNeighborsClassifier\n",
    "\n",
    "# Modelo KNN\n",
    "knn = KNeighborsClassifier(n_neighbors=5)\n",
    "knn.fit(X_train, y_train)\n",
    "y_pred_knn = knn.predict(X_val)\n",
    "y_test_pred_knn = knn.predict(X_test_scaled)\n",
    "\n",
    "# Evaluación\n",
    "print(\"K-Nearest Neighbors Classifier:\")\n",
    "print(\"Accuracy on Validation:\", accuracy_score(y_val, y_pred_knn))\n",
    "print(\"Accuracy on Test:\", accuracy_score(y_test_pred_knn, y_test_pred_knn))\n",
    "print(classification_report(y_val, y_pred_knn))\n",
    "\n"
   ]
  },
  {
   "cell_type": "markdown",
   "metadata": {},
   "source": [
    "Modelo 5 - Logistic Regression"
   ]
  },
  {
   "cell_type": "code",
   "execution_count": 33,
   "metadata": {},
   "outputs": [
    {
     "name": "stdout",
     "output_type": "stream",
     "text": [
      "Logistic Regression:\n",
      "Accuracy on Validation: 0.85\n",
      "Accuracy on Test: 1.0\n",
      "              precision    recall  f1-score   support\n",
      "\n",
      "           0       0.90      1.00      0.95       105\n",
      "           1       0.79      0.63      0.70        91\n",
      "           2       0.75      0.72      0.73        92\n",
      "           3       0.91      1.00      0.95       112\n",
      "\n",
      "    accuracy                           0.85       400\n",
      "   macro avg       0.84      0.84      0.83       400\n",
      "weighted avg       0.84      0.85      0.84       400\n",
      "\n"
     ]
    }
   ],
   "source": [
    "from sklearn.linear_model import LogisticRegression\n",
    "\n",
    "# Modelo Logistic Regression\n",
    "lr = LogisticRegression(C=1.0, solver='liblinear', random_state=42)\n",
    "lr.fit(X_train, y_train)\n",
    "y_pred_lr = lr.predict(X_val)\n",
    "y_test_pred_lr = lr.predict(X_test_scaled)\n",
    "\n",
    "# Evaluación\n",
    "print(\"Logistic Regression:\")\n",
    "print(\"Accuracy on Validation:\", accuracy_score(y_val, y_pred_lr))\n",
    "print(\"Accuracy on Test:\", accuracy_score(y_test_pred_lr, y_test_pred_lr))\n",
    "print(classification_report(y_val, y_pred_lr))\n",
    "\n"
   ]
  },
  {
   "cell_type": "markdown",
   "metadata": {},
   "source": [
    "Modelo No Supervisado - KMeans Clustering"
   ]
  },
  {
   "cell_type": "code",
   "execution_count": 37,
   "metadata": {},
   "outputs": [
    {
     "name": "stdout",
     "output_type": "stream",
     "text": [
      "KMeans Clustering (Validation Data):\n",
      "col_0         0   1   2   3\n",
      "price_range                \n",
      "0            34  26  20  25\n",
      "1            31  17  21  22\n",
      "2            27  28  16  21\n",
      "3            22  29  33  28\n",
      "KMeans Clustering (Test Data):\n",
      "col_0    0    1    2    3\n",
      "row_0                    \n",
      "0      323    0    0    0\n",
      "1        0  236    0    0\n",
      "2        0    0  202    0\n",
      "3        0    0    0  239\n"
     ]
    }
   ],
   "source": [
    "from sklearn.cluster import KMeans\n",
    "\n",
    "# Modelo KMeans con n_init especificado\n",
    "kmeans = KMeans(n_clusters=4, random_state=42, n_init=10)\n",
    "kmeans.fit(X_scaled)\n",
    "clusters = kmeans.predict(X_val)\n",
    "clusters_test = kmeans.predict(X_test_scaled)\n",
    "\n",
    "# Evaluación\n",
    "print(\"KMeans Clustering (Validation Data):\")\n",
    "print(pd.crosstab(y_val, clusters))\n",
    "\n",
    "print(\"KMeans Clustering (Test Data):\")\n",
    "print(pd.crosstab(clusters_test, clusters_test))\n"
   ]
  },
  {
   "cell_type": "markdown",
   "metadata": {},
   "source": [
    "Interpretación de Variables"
   ]
  },
  {
   "cell_type": "code",
   "execution_count": 38,
   "metadata": {},
   "outputs": [
    {
     "name": "stderr",
     "output_type": "stream",
     "text": [
      "c:\\ProgramData\\anaconda3\\Lib\\site-packages\\seaborn\\_oldcore.py:1765: FutureWarning: unique with argument that is not not a Series, Index, ExtensionArray, or np.ndarray is deprecated and will raise in a future version.\n",
      "  order = pd.unique(vector)\n"
     ]
    },
    {
     "data": {
      "image/png": "[encoded data removed]",
      "text/plain": [
       "<Figure size 1200x600 with 1 Axes>"
      ]
     },
     "metadata": {},
     "output_type": "display_data"
    }
   ],
   "source": [
    "import numpy as np\n",
    "import matplotlib.pyplot as plt\n",
    "import seaborn as sns\n",
    "\n",
    "# Importancia de características para Random Forest\n",
    "importances = rf.feature_importances_\n",
    "indices = np.argsort(importances)[::-1]\n",
    "\n",
    "# Gráfico de barras de importancia de características\n",
    "plt.figure(figsize=(12, 6))\n",
    "sns.barplot(x=[X.columns[i] for i in indices], y=importances[indices])\n",
    "plt.title(\"Feature Importances - Random Forest\")\n",
    "plt.xticks(rotation=90)\n",
    "plt.show()\n",
    "\n"
   ]
  },
  {
   "cell_type": "code",
   "execution_count": null,
   "metadata": {},
   "outputs": [],
   "source": []
  }
 ],
 "metadata": {
  "kernelspec": {
   "display_name": "Python 3.7.4 64-bit",
   "language": "python",
   "name": "python3"
  },
  "language_info": {
   "codemirror_mode": {
    "name": "ipython",
    "version": 3
   },
   "file_extension": ".py",
   "mimetype": "text/x-python",
   "name": "python",
   "nbconvert_exporter": "python",
   "pygments_lexer": "ipython3",
   "version": "3.11.7"
  },
  "vscode": {
   "interpreter": {
    "hash": "c0e4a4af33acb5d51fe8962d9e2e7588108ae49a894b6d1e35c2101e79360239"
   }
  }
 },
 "nbformat": 4,
 "nbformat_minor": 4
}
