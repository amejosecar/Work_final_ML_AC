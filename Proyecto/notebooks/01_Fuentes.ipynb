{
 "cells": [
  {
   "cell_type": "markdown",
   "metadata": {},
   "source": [
    "## Data"
   ]
  },
  {
   "cell_type": "markdown",
   "metadata": {},
   "source": [
    "Descripción de la característica:\n",
    "\n",
    "1- 🔋 battery_power: Energía total que una batería puede almacenar en un tiempo medido en (mAh)\n",
    "\n",
    "2- 📡bluetooth blue: Tiene bluetooth o no\n",
    "\n",
    "3- ⌚clock_speed: Velocidad a la que el microprocesador ejecuta instrucciones\n",
    "\n",
    "4- 📱 dual_sim: Tiene soporte dual sim o no\n",
    "\n",
    "5- 📸 fc: Cámara frontal (Megapixeles)\n",
    "\n",
    "6- 📶 four_g: Tiene 4G o no\n",
    "\n",
    "7- 📀 int_memory: Memoria interna en (Gigabytes)\n",
    "\n",
    "8- 📲 m_dep: Profundidad del móvil en (Cm)\n",
    "\n",
    "9- ⚖️ mobile_wt: Peso del móvil\n",
    "\n",
    "10- 🎞️ pc: Cámara principal (Megapixeles)\n",
    "\n",
    "11- 👾 px_height: Alto de resolución de píxeles\n",
    "\n",
    "12- 👾 px_width: Ancho de resolución de píxeles\n",
    "\n",
    "13- ⚙️ ram: Memoria de acceso aleatorio en (Megabytes)\n",
    "\n",
    "14- 📏 sc_h: Alto de pantalla del móvil en (Cm)\n",
    "\n",
    "15- 📐 sc_w: Ancho de pantalla del móvil en (Cm)\n",
    "\n",
    "16- 🔌talk_time: Tiempo máximo que durará una sola carga de batería cuando estás hablando constantemente por teléfono\n",
    "\n",
    "17- 📶 three_g: Tiene 3G o no\n",
    "\n",
    "18- 📟 touch_screen: Tiene pantalla táctil o no\n",
    "\n",
    "19- 🛜 wifi: Tiene wifi o no\n",
    "\n",
    "20- 🎛️ n_cores: Número de núcleos del procesador\n",
    "\n",
    "21- 🤑 price_range: Esta es la variable Target con valor 0: (Costo bajo), 1: (Costo medio), 2: (Costo alto) y 3: (Costo muy alto)"
   ]
  },
  {
   "cell_type": "code",
   "execution_count": null,
   "metadata": {},
   "outputs": [],
   "source": [
    "import pandas as pd\n",
    "\n",
    "df_train = pd.read_csv(\"../data/raw/train.csv\")\n",
    "df_test = pd.read_csv(\"../data/raw/test.csv\")\n"
   ]
  },
  {
   "cell_type": "code",
   "execution_count": null,
   "metadata": {},
   "outputs": [],
   "source": [
    "df_train.head()"
   ]
  },
  {
   "cell_type": "code",
   "execution_count": null,
   "metadata": {},
   "outputs": [],
   "source": [
    "df_test.head()"
   ]
  },
  {
   "cell_type": "code",
   "execution_count": null,
   "metadata": {},
   "outputs": [],
   "source": [
    "df_train.info()"
   ]
  },
  {
   "cell_type": "code",
   "execution_count": null,
   "metadata": {},
   "outputs": [],
   "source": [
    "df_test.info()"
   ]
  },
  {
   "cell_type": "code",
   "execution_count": null,
   "metadata": {},
   "outputs": [],
   "source": [
    "df_train.isna().sum()"
   ]
  },
  {
   "cell_type": "code",
   "execution_count": null,
   "metadata": {},
   "outputs": [],
   "source": [
    "df_test.isna().sum()"
   ]
  },
  {
   "cell_type": "code",
   "execution_count": null,
   "metadata": {},
   "outputs": [],
   "source": [
    "df_train.describe(include=\"all\")"
   ]
  },
  {
   "cell_type": "code",
   "execution_count": null,
   "metadata": {},
   "outputs": [],
   "source": [
    "df_test.describe(include=\"all\")"
   ]
  },
  {
   "cell_type": "code",
   "execution_count": null,
   "metadata": {},
   "outputs": [],
   "source": [
    "def check(df):\n",
    "    l=[]\n",
    "    columns=df.columns\n",
    "    for col in columns:\n",
    "        dtypes=df[col].dtypes\n",
    "        nunique=df[col].nunique()\n",
    "        sum_null=df[col].isnull().sum()\n",
    "        l.append([col,dtypes,nunique,sum_null])\n",
    "    df_check=pd.DataFrame(l)\n",
    "    df_check.columns=['column','dtypes','nunique','sum_null']\n",
    "    return df_check "
   ]
  },
  {
   "cell_type": "code",
   "execution_count": null,
   "metadata": {},
   "outputs": [],
   "source": [
    "check(df_train)"
   ]
  },
  {
   "cell_type": "code",
   "execution_count": null,
   "metadata": {},
   "outputs": [],
   "source": [
    "check(df_test)"
   ]
  },
  {
   "cell_type": "code",
   "execution_count": null,
   "metadata": {},
   "outputs": [],
   "source": [
    "df_test = pd.DataFrame(df_test)\n",
    "df_test"
   ]
  },
  {
   "cell_type": "code",
   "execution_count": null,
   "metadata": {},
   "outputs": [],
   "source": [
    "df_train = pd.DataFrame(df_train)\n",
    "df_train"
   ]
  },
  {
   "cell_type": "code",
   "execution_count": null,
   "metadata": {},
   "outputs": [],
   "source": []
  }
 ],
 "metadata": {
  "kernelspec": {
   "display_name": "Python 3.7.4 64-bit",
   "language": "python",
   "name": "python3"
  },
  "language_info": {
   "codemirror_mode": {
    "name": "ipython",
    "version": 3
   },
   "file_extension": ".py",
   "mimetype": "text/x-python",
   "name": "python",
   "nbconvert_exporter": "python",
   "pygments_lexer": "ipython3",
   "version": "3.12.5"
  },
  "vscode": {
   "interpreter": {
    "hash": "c0e4a4af33acb5d51fe8962d9e2e7588108ae49a894b6d1e35c2101e79360239"
   }
  }
 },
 "nbformat": 4,
 "nbformat_minor": 4
}
