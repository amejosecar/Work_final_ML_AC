{
 "cells": [
  {
   "cell_type": "code",
   "execution_count": null,
   "metadata": {},
   "outputs": [],
   "source": [
    "import pandas as pd\n",
    "from sklearn.model_selection import train_test_split, cross_val_score\n",
    "from sklearn.preprocessing import StandardScaler\n",
    "import warnings\n",
    "warnings.filterwarnings(\"ignore\", category=UserWarning, module=\"sklearn\")\n",
    "\n",
    "# Carga de datos\n",
    "df_train = pd.read_csv(\"../data/train/train.csv\")\n",
    "df_test = pd.read_csv(\"../data/processed/df_test_proce.csv\")\n",
    "\n",
    "# Separación de características y target\n",
    "X = df_train.drop('price_range', axis=1)\n",
    "y = df_train['price_range']\n",
    "\n",
    "# Escalado de características\n",
    "scaler = StandardScaler()\n",
    "X_scaled = scaler.fit_transform(X)\n",
    "X_train, X_val, y_train, y_val = train_test_split(X_scaled, y, test_size=0.2, random_state=42)\n",
    "\n",
    "# Preparación de los datos de test\n",
    "X_test_scaled = scaler.transform(df_test)\n"
   ]
  },
  {
   "cell_type": "markdown",
   "metadata": {},
   "source": [
    "Modelo 1 - Random Forest (Regularización + Cross-Validation)"
   ]
  },
  {
   "cell_type": "code",
   "execution_count": null,
   "metadata": {},
   "outputs": [],
   "source": [
    "from sklearn.ensemble import RandomForestClassifier\n",
    "from sklearn.metrics import accuracy_score, classification_report\n",
    "\n",
    "# Modelo Random Forest con cross-validation\n",
    "rf = RandomForestClassifier(n_estimators=100, max_depth=10, random_state=42)\n",
    "cv_scores_rf = cross_val_score(rf, X_train, y_train, cv=5)\n",
    "rf.fit(X_train, y_train)\n",
    "rf"
   ]
  },
  {
   "cell_type": "code",
   "execution_count": null,
   "metadata": {},
   "outputs": [],
   "source": [
    "y_pred_rf = rf.predict(X_val)\n",
    "y_test_pred_rf = rf.predict(X_test_scaled)\n",
    "\n",
    "# Evaluación\n",
    "print(\"Random Forest Classifier:\")\n",
    "print(\"Cross-Validation Scores:\", cv_scores_rf)\n",
    "print(\"Mean CV Score:\", cv_scores_rf.mean())\n",
    "print(\"Accuracy on Validation:\", accuracy_score(y_val, y_pred_rf))\n",
    "print(\"Classification Report:\\n\", classification_report(y_val, y_pred_rf))\n"
   ]
  },
  {
   "cell_type": "markdown",
   "metadata": {},
   "source": [
    "Modelo 2 - Support Vector Classifier (SVC) (Regularización + Cross-Validation)"
   ]
  },
  {
   "cell_type": "code",
   "execution_count": null,
   "metadata": {},
   "outputs": [],
   "source": [
    "from sklearn.svm import SVC\n",
    "\n",
    "# Modelo SVC con regularización y cross-validation\n",
    "svc = SVC(C=1.0, kernel='rbf', random_state=42)\n",
    "cv_scores_svc = cross_val_score(svc, X_train, y_train, cv=5)\n",
    "svc.fit(X_train, y_train)\n",
    "svc\n"
   ]
  },
  {
   "cell_type": "code",
   "execution_count": null,
   "metadata": {},
   "outputs": [],
   "source": [
    "y_pred_svc = svc.predict(X_val)\n",
    "y_test_pred_svc = svc.predict(X_test_scaled)\n",
    "\n",
    "# Evaluación\n",
    "print(\"Support Vector Classifier:\")\n",
    "print(\"Cross-Validation Scores:\", cv_scores_svc)\n",
    "print(\"Mean CV Score:\", cv_scores_svc.mean())\n",
    "print(\"Accuracy on Validation:\", accuracy_score(y_val, y_pred_svc))\n",
    "print(\"Classification Report:\\n\", classification_report(y_val, y_pred_svc))"
   ]
  },
  {
   "cell_type": "markdown",
   "metadata": {},
   "source": [
    "Modelo 3 - Gradient Boosting (Regularización + Cross-Validation)"
   ]
  },
  {
   "cell_type": "code",
   "execution_count": null,
   "metadata": {},
   "outputs": [],
   "source": [
    "from sklearn.ensemble import GradientBoostingClassifier\n",
    "\n",
    "# Modelo Gradient Boosting con early stopping\n",
    "gb = GradientBoostingClassifier(n_estimators=100, learning_rate=0.1, max_depth=5, random_state=42)\n",
    "cv_scores_gb = cross_val_score(gb, X_train, y_train, cv=5)\n",
    "gb.fit(X_train, y_train)\n",
    "gb"
   ]
  },
  {
   "cell_type": "code",
   "execution_count": null,
   "metadata": {},
   "outputs": [],
   "source": [
    "y_pred_gb = gb.predict(X_val)\n",
    "y_test_pred_gb = gb.predict(X_test_scaled)\n",
    "\n",
    "# Evaluación\n",
    "print(\"Gradient Boosting Classifier:\")\n",
    "print(\"Cross-Validation Scores:\", cv_scores_gb)\n",
    "print(\"Mean CV Score:\", cv_scores_gb.mean())\n",
    "print(\"Accuracy on Validation:\", accuracy_score(y_val, y_pred_gb))\n",
    "print(\"Classification Report:\\n\", classification_report(y_val, y_pred_gb))\n"
   ]
  },
  {
   "cell_type": "markdown",
   "metadata": {},
   "source": [
    "Modelo 4 - Logistic Regression (Regularización L2)"
   ]
  },
  {
   "cell_type": "code",
   "execution_count": null,
   "metadata": {},
   "outputs": [],
   "source": [
    "from sklearn.linear_model import LogisticRegression\n",
    "\n",
    "# Modelo Logistic Regression con regularización L2\n",
    "lr = LogisticRegression(C=1.0, solver='liblinear', random_state=42)\n",
    "cv_scores_lr = cross_val_score(lr, X_train, y_train, cv=5)\n",
    "lr.fit(X_train, y_train)\n",
    "lr\n"
   ]
  },
  {
   "cell_type": "code",
   "execution_count": null,
   "metadata": {},
   "outputs": [],
   "source": [
    "y_pred_lr = lr.predict(X_val)\n",
    "y_test_pred_lr = lr.predict(X_test_scaled)\n",
    "\n",
    "# Evaluación\n",
    "print(\"Logistic Regression:\")\n",
    "print(\"Cross-Validation Scores:\", cv_scores_lr)\n",
    "print(\"Mean CV Score:\", cv_scores_lr.mean())\n",
    "print(\"Accuracy on Validation:\", accuracy_score(y_val, y_pred_lr))\n",
    "print(\"Classification Report:\\n\", classification_report(y_val, y_pred_lr))"
   ]
  },
  {
   "cell_type": "markdown",
   "metadata": {},
   "source": [
    "K-Means Clustering (Modelo No Supervisado)"
   ]
  },
  {
   "cell_type": "code",
   "execution_count": null,
   "metadata": {},
   "outputs": [],
   "source": [
    "from sklearn.cluster import KMeans\n",
    "\n",
    "# Modelo KMeans con n_init especificado\n",
    "kmeans = KMeans(n_clusters=4, random_state=42, n_init=10)\n",
    "kmeans.fit(X_scaled)\n",
    "clusters = kmeans.predict(X_val)\n",
    "clusters_test = kmeans.predict(X_test_scaled)\n",
    "\n",
    "# Evaluación\n",
    "print(\"KMeans Clustering (Validation Data):\")\n",
    "print(pd.crosstab(y_val, clusters))\n",
    "\n",
    "print(\"KMeans Clustering (Test Data):\")\n",
    "print(pd.crosstab(clusters_test, clusters_test))\n"
   ]
  },
  {
   "cell_type": "markdown",
   "metadata": {},
   "source": [
    "Interpretación de Variables "
   ]
  },
  {
   "cell_type": "code",
   "execution_count": null,
   "metadata": {},
   "outputs": [],
   "source": [
    "import numpy as np\n",
    "import matplotlib.pyplot as plt\n",
    "import seaborn as sns\n",
    "\n",
    "# Importancia de características para Random Forest\n",
    "importances = rf.feature_importances_\n",
    "indices = np.argsort(importances)[::-1]\n",
    "\n",
    "# Gráfico de barras de importancia de características\n",
    "plt.figure(figsize=(12, 6))\n",
    "sns.barplot(x=[X.columns[i] for i in indices], y=importances[indices])\n",
    "plt.title(\"Feature Importances - Random Forest\")\n",
    "plt.xticks(rotation=90)\n",
    "plt.show()\n",
    "\n",
    "\n"
   ]
  },
  {
   "cell_type": "code",
   "execution_count": null,
   "metadata": {},
   "outputs": [],
   "source": [
    "import seaborn as sns\n",
    "import matplotlib.pyplot as plt\n",
    "from sklearn.metrics import confusion_matrix\n",
    "\n",
    "# Definir una función para crear y mostrar un heatmap de la matriz de confusión\n",
    "def plot_confusion_matrix(y_true, y_pred, title):\n",
    "    cm = confusion_matrix(y_true, y_pred)\n",
    "    plt.figure(figsize=(8, 6))\n",
    "    sns.heatmap(cm, annot=True, fmt='d', cmap='Blues', \n",
    "                xticklabels=[f'Class {i}' for i in range(cm.shape[1])],\n",
    "                yticklabels=[f'Class {i}' for i in range(cm.shape[0])])\n",
    "    plt.xlabel('Predicted Labels')\n",
    "    plt.ylabel('True Labels')\n",
    "    plt.title(title)\n",
    "    plt.show()\n",
    "\n",
    "# Aplicar a Random Forest\n",
    "plot_confusion_matrix(y_val, y_pred_rf, 'Random Forest Confusion Matrix')\n",
    "\n",
    "# Aplicar a SVC\n",
    "plot_confusion_matrix(y_val, y_pred_svc, 'SVC Confusion Matrix')\n",
    "\n",
    "# Aplicar a Gradient Boosting\n",
    "plot_confusion_matrix(y_val, y_pred_gb, 'Gradient Boosting Confusion Matrix')\n",
    "\n",
    "# Aplicar a Logistic Regression\n",
    "plot_confusion_matrix(y_val, y_pred_lr, 'Logistic Regression Confusion Matrix')\n"
   ]
  },
  {
   "cell_type": "code",
   "execution_count": null,
   "metadata": {},
   "outputs": [],
   "source": [
    "print(f\"Dimensiones de X_val: {X_val.shape}\")\n",
    "print(f\"Dimensiones de y_val: {y_val.shape}\")\n",
    "print(f\"Dimensiones de y_score_rf: {y_score_rf.shape}\")\n"
   ]
  },
  {
   "cell_type": "code",
   "execution_count": null,
   "metadata": {},
   "outputs": [],
   "source": [
    "import matplotlib.pyplot as plt\n",
    "from sklearn.metrics import roc_curve, auc\n",
    "from sklearn.preprocessing import label_binarize\n",
    "\n",
    "# Binarizar las etiquetas para la clasificación multiclase\n",
    "y_bin = label_binarize(y, classes=[0, 1, 2, 3])\n",
    "n_classes = y_bin.shape[1]\n",
    "\n",
    "def plot_roc_curve(y_true, y_score, n_classes, label):\n",
    "    plt.figure(figsize=(12, 8))\n",
    "    \n",
    "    # Calcular la curva ROC para cada clase\n",
    "    for i in range(n_classes):\n",
    "        fpr, tpr, _ = roc_curve(y_true[:, i], y_score[:, i])\n",
    "        roc_auc = auc(fpr, tpr)\n",
    "        plt.plot(fpr, tpr, label=f'{label} (class {i}) AUC = {roc_auc:.2f}')\n",
    "    \n",
    "    # Configuración del gráfico\n",
    "    plt.plot([0, 1], [0, 1], 'k--')\n",
    "    plt.xlim([0.0, 1.0])\n",
    "    plt.ylim([0.0, 1.05])\n",
    "    plt.xlabel('False Positive Rate')\n",
    "    plt.ylabel('True Positive Rate')\n",
    "    plt.title(f'Receiver Operating Characteristic - {label}')\n",
    "    plt.legend(loc='lower right')\n",
    "    plt.grid(True)\n",
    "    plt.show()\n",
    "\n",
    "# Confirmar las dimensiones del conjunto de validación\n",
    "print(f\"Dimensiones de X_val: {X_val.shape}\")\n",
    "print(f\"Dimensiones de y_val: {y_val.shape}\")\n",
    "\n",
    "# Entrenar modelos y obtener las predicciones de probabilidad\n",
    "from sklearn.ensemble import RandomForestClassifier\n",
    "from sklearn.svm import SVC\n",
    "from sklearn.ensemble import GradientBoostingClassifier\n",
    "from sklearn.linear_model import LogisticRegression\n",
    "\n",
    "# Random Forest\n",
    "rf = RandomForestClassifier(n_estimators=100, max_depth=10, random_state=42)\n",
    "rf.fit(X_train, y_train)\n",
    "y_score_rf = rf.predict_proba(X_val)  # Asegúrate de que esto sea para X_val\n",
    "plot_roc_curve(y_bin[:len(y_val)], y_score_rf, n_classes, 'Random Forest')\n",
    "\n",
    "# Support Vector Classifier\n",
    "svc = SVC(C=1.0, kernel='rbf', probability=True, random_state=42)\n",
    "svc.fit(X_train, y_train)\n",
    "y_score_svc = svc.predict_proba(X_val)  # Asegúrate de que esto sea para X_val\n",
    "plot_roc_curve(y_bin[:len(y_val)], y_score_svc, n_classes, 'SVC')\n",
    "\n",
    "# Gradient Boosting\n",
    "gb = GradientBoostingClassifier(n_estimators=100, learning_rate=0.1, max_depth=5, random_state=42)\n",
    "gb.fit(X_train, y_train)\n",
    "y_score_gb = gb.predict_proba(X_val)  # Asegúrate de que esto sea para X_val\n",
    "plot_roc_curve(y_bin[:len(y_val)], y_score_gb, n_classes, 'Gradient Boosting')\n",
    "\n",
    "# Logistic Regression\n",
    "lr = LogisticRegression(C=1.0, solver='liblinear', random_state=42)\n",
    "lr.fit(X_train, y_train)\n",
    "y_score_lr = lr.predict_proba(X_val)  # Asegúrate de que esto sea para X_val\n",
    "plot_roc_curve(y_bin[:len(y_val)], y_score_lr, n_classes, 'Logistic Regression')\n"
   ]
  },
  {
   "cell_type": "code",
   "execution_count": null,
   "metadata": {},
   "outputs": [],
   "source": []
  }
 ],
 "metadata": {
  "kernelspec": {
   "display_name": "Python 3.7.4 64-bit",
   "language": "python",
   "name": "python3"
  },
  "language_info": {
   "codemirror_mode": {
    "name": "ipython",
    "version": 3
   },
   "file_extension": ".py",
   "mimetype": "text/x-python",
   "name": "python",
   "nbconvert_exporter": "python",
   "pygments_lexer": "ipython3",
   "version": "3.12.5"
  },
  "vscode": {
   "interpreter": {
    "hash": "c0e4a4af33acb5d51fe8962d9e2e7588108ae49a894b6d1e35c2101e79360239"
   }
  }
 },
 "nbformat": 4,
 "nbformat_minor": 4
}
