{
 "cells": [
  {
   "cell_type": "code",
   "execution_count": 3,
   "metadata": {},
   "outputs": [],
   "source": [
    "import pandas as pd\n",
    "\n",
    "df_train = pd.read_csv(\"../data/train/train.csv\")\n",
    "df_test = pd.read_csv(\"../data/processed/df_test_proce.csv\")"
   ]
  },
  {
   "cell_type": "code",
   "execution_count": 4,
   "metadata": {},
   "outputs": [],
   "source": [
    "from sklearn.model_selection import train_test_split\n",
    "from sklearn.preprocessing import StandardScaler\n",
    "from sklearn.metrics import classification_report\n",
    "\n",
    "X = df_train.drop('price_range', axis=1)\n",
    "y = df_train['price_range']\n",
    "\n",
    "scaler = StandardScaler()\n",
    "X_scaled = scaler.fit_transform(X)\n",
    "X_train, X_val, y_train, y_val = train_test_split(X_scaled, y, test_size=0.2, random_state=42)\n",
    "\n",
    "#test_ids = df_test['id']\n",
    "#df_test = df_test.drop('id', axis=1)\n",
    "\n",
    "test_data_scaled = scaler.transform(df_test)"
   ]
  },
  {
   "cell_type": "code",
   "execution_count": 5,
   "metadata": {},
   "outputs": [],
   "source": [
    "import os\n",
    "from sklearn.ensemble import RandomForestClassifier, GradientBoostingClassifier, AdaBoostClassifier, ExtraTreesClassifier, BaggingClassifier\n",
    "from sklearn.linear_model import LogisticRegression  # Importación correcta\n",
    "from sklearn.svm import SVC\n",
    "from sklearn.tree import DecisionTreeClassifier\n",
    "from xgboost import XGBClassifier\n",
    "from catboost import CatBoostClassifier\n",
    "from lightgbm import LGBMClassifier\n",
    "from sklearn.metrics import classification_report\n",
    "\n",
    "# Ajustar la advertencia de núcleos de CPU\n",
    "#os.environ[\"LOKY_MAX_CPU_COUNT\"] = \"4\"  # Ajusta según el número de núcleos de tu máquina\n",
    "\n",
    "models = {\n",
    "    'RandomForestClassifier': RandomForestClassifier(random_state=42),\n",
    "    'GradientBoostingClassifier': GradientBoostingClassifier(random_state=42),\n",
    "    'AdaBoostClassifier': AdaBoostClassifier(algorithm='SAMME', random_state=42),  # SAMME para evitar FutureWarning\n",
    "    'ExtraTreesClassifier': ExtraTreesClassifier(random_state=42),\n",
    "    'BaggingClassifier': BaggingClassifier(random_state=42),\n",
    "    'LogisticRegression': LogisticRegression(random_state=42),  # Importación corregida\n",
    "    'SVC': SVC(random_state=42),\n",
    "    'DecisionTreeClassifier': DecisionTreeClassifier(random_state=42),\n",
    "    'XGBClassifier': XGBClassifier(random_state=42),\n",
    "    'CatBoostClassifier': CatBoostClassifier(random_state=42, verbose=False),\n",
    "    'LGBMClassifier': LGBMClassifier(random_state=42, verbose=-1),\n",
    "}\n",
    "\n",
    "with open('classification_reports.txt', 'w') as f:\n",
    "    for name, model in models.items():\n",
    "        model.fit(X_train, y_train)\n",
    "        y_pred = model.predict(X_val)\n",
    "        f.write(f\"{name}\\n\")\n",
    "        f.write(classification_report(y_val, y_pred))\n",
    "        f.write(\"--------------------------------\\n\")\n"
   ]
  }
 ],
 "metadata": {
  "kernelspec": {
   "display_name": "Python 3.7.4 64-bit",
   "language": "python",
   "name": "python3"
  },
  "language_info": {
   "codemirror_mode": {
    "name": "ipython",
    "version": 3
   },
   "file_extension": ".py",
   "mimetype": "text/x-python",
   "name": "python",
   "nbconvert_exporter": "python",
   "pygments_lexer": "ipython3",
   "version": "3.12.5"
  },
  "vscode": {
   "interpreter": {
    "hash": "c0e4a4af33acb5d51fe8962d9e2e7588108ae49a894b6d1e35c2101e79360239"
   }
  }
 },
 "nbformat": 4,
 "nbformat_minor": 4
}
